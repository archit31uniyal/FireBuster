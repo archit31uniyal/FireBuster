{
 "cells": [
  {
   "cell_type": "code",
   "execution_count": 1,
   "metadata": {},
   "outputs": [
    {
     "name": "stderr",
     "output_type": "stream",
     "text": [
      "Using TensorFlow backend.\n",
      "/home/harleen/.local/lib/python3.6/site-packages/tensorflow/python/framework/dtypes.py:516: FutureWarning: Passing (type, 1) or '1type' as a synonym of type is deprecated; in a future version of numpy, it will be understood as (type, (1,)) / '(1,)type'.\n",
      "  _np_qint8 = np.dtype([(\"qint8\", np.int8, 1)])\n",
      "/home/harleen/.local/lib/python3.6/site-packages/tensorflow/python/framework/dtypes.py:517: FutureWarning: Passing (type, 1) or '1type' as a synonym of type is deprecated; in a future version of numpy, it will be understood as (type, (1,)) / '(1,)type'.\n",
      "  _np_quint8 = np.dtype([(\"quint8\", np.uint8, 1)])\n",
      "/home/harleen/.local/lib/python3.6/site-packages/tensorflow/python/framework/dtypes.py:518: FutureWarning: Passing (type, 1) or '1type' as a synonym of type is deprecated; in a future version of numpy, it will be understood as (type, (1,)) / '(1,)type'.\n",
      "  _np_qint16 = np.dtype([(\"qint16\", np.int16, 1)])\n",
      "/home/harleen/.local/lib/python3.6/site-packages/tensorflow/python/framework/dtypes.py:519: FutureWarning: Passing (type, 1) or '1type' as a synonym of type is deprecated; in a future version of numpy, it will be understood as (type, (1,)) / '(1,)type'.\n",
      "  _np_quint16 = np.dtype([(\"quint16\", np.uint16, 1)])\n",
      "/home/harleen/.local/lib/python3.6/site-packages/tensorflow/python/framework/dtypes.py:520: FutureWarning: Passing (type, 1) or '1type' as a synonym of type is deprecated; in a future version of numpy, it will be understood as (type, (1,)) / '(1,)type'.\n",
      "  _np_qint32 = np.dtype([(\"qint32\", np.int32, 1)])\n",
      "/home/harleen/.local/lib/python3.6/site-packages/tensorflow/python/framework/dtypes.py:525: FutureWarning: Passing (type, 1) or '1type' as a synonym of type is deprecated; in a future version of numpy, it will be understood as (type, (1,)) / '(1,)type'.\n",
      "  np_resource = np.dtype([(\"resource\", np.ubyte, 1)])\n",
      "/home/harleen/.local/lib/python3.6/site-packages/tensorboard/compat/tensorflow_stub/dtypes.py:541: FutureWarning: Passing (type, 1) or '1type' as a synonym of type is deprecated; in a future version of numpy, it will be understood as (type, (1,)) / '(1,)type'.\n",
      "  _np_qint8 = np.dtype([(\"qint8\", np.int8, 1)])\n",
      "/home/harleen/.local/lib/python3.6/site-packages/tensorboard/compat/tensorflow_stub/dtypes.py:542: FutureWarning: Passing (type, 1) or '1type' as a synonym of type is deprecated; in a future version of numpy, it will be understood as (type, (1,)) / '(1,)type'.\n",
      "  _np_quint8 = np.dtype([(\"quint8\", np.uint8, 1)])\n",
      "/home/harleen/.local/lib/python3.6/site-packages/tensorboard/compat/tensorflow_stub/dtypes.py:543: FutureWarning: Passing (type, 1) or '1type' as a synonym of type is deprecated; in a future version of numpy, it will be understood as (type, (1,)) / '(1,)type'.\n",
      "  _np_qint16 = np.dtype([(\"qint16\", np.int16, 1)])\n",
      "/home/harleen/.local/lib/python3.6/site-packages/tensorboard/compat/tensorflow_stub/dtypes.py:544: FutureWarning: Passing (type, 1) or '1type' as a synonym of type is deprecated; in a future version of numpy, it will be understood as (type, (1,)) / '(1,)type'.\n",
      "  _np_quint16 = np.dtype([(\"quint16\", np.uint16, 1)])\n",
      "/home/harleen/.local/lib/python3.6/site-packages/tensorboard/compat/tensorflow_stub/dtypes.py:545: FutureWarning: Passing (type, 1) or '1type' as a synonym of type is deprecated; in a future version of numpy, it will be understood as (type, (1,)) / '(1,)type'.\n",
      "  _np_qint32 = np.dtype([(\"qint32\", np.int32, 1)])\n",
      "/home/harleen/.local/lib/python3.6/site-packages/tensorboard/compat/tensorflow_stub/dtypes.py:550: FutureWarning: Passing (type, 1) or '1type' as a synonym of type is deprecated; in a future version of numpy, it will be understood as (type, (1,)) / '(1,)type'.\n",
      "  np_resource = np.dtype([(\"resource\", np.ubyte, 1)])\n"
     ]
    }
   ],
   "source": [
    "# -*- coding: utf-8 -*-\n",
    "import numpy as np\n",
    "import numpy\n",
    "import matplotlib.pyplot as plt\n",
    "import pandas as pd\n",
    "import math\n",
    "\n",
    "from keras.models import Sequential\n",
    "from keras.layers import Dense, LSTM, Dropout\n",
    "from sklearn.preprocessing import MinMaxScaler\n",
    "from sklearn.metrics import mean_squared_error"
   ]
  },
  {
   "cell_type": "code",
   "execution_count": 2,
   "metadata": {},
   "outputs": [
    {
     "name": "stdout",
     "output_type": "stream",
     "text": [
      "517 517\n"
     ]
    }
   ],
   "source": [
    "x=[]\n",
    "y=[]\n",
    "\n",
    "wildfire= pd.read_csv(\"forestfires.csv\")\n",
    "wildfire= np.array(wildfire)\n",
    "wildfire = wildfire[..., np.newaxis]\n",
    "choices= list(range(0,len(wildfire)))\n",
    "indexes=[1,2,3,4,5,6,7]\n",
    "wildfirey = []\n",
    "for i in range(len(wildfire)):\n",
    "    for j in range(7):\n",
    "        x.append(wildfire[i][j])\n",
    "        y.append(indexes[j])\n",
    "    wildfirey.append(indexes)\n",
    "x= np.array(x)\n",
    "y= np.array(y)\n",
    "\n",
    "wildfirey= np.array(wildfirey)\n",
    "# wildfirey = wildfirey[..., np.newaxis]\n",
    "\n",
    "print(len(wildfire),  len(wildfirey))"
   ]
  },
  {
   "cell_type": "code",
   "execution_count": 3,
   "metadata": {},
   "outputs": [],
   "source": [
    "from sklearn.model_selection import train_test_split\n",
    "\n",
    "train_x, test_x, train_y, test_y= train_test_split(wildfire, wildfirey, test_size=0.1, shuffle= False)\n",
    "train_x, val_x, train_y, val_y= train_test_split(train_x, train_y, test_size=0.1, shuffle=False)"
   ]
  },
  {
   "cell_type": "code",
   "execution_count": 4,
   "metadata": {},
   "outputs": [
    {
     "name": "stdout",
     "output_type": "stream",
     "text": [
      "(7, 1)\n",
      "(7,)\n"
     ]
    }
   ],
   "source": [
    "print(train_x.shape[1:])\n",
    "print(train_y.shape[1:])"
   ]
  },
  {
   "cell_type": "code",
   "execution_count": 5,
   "metadata": {},
   "outputs": [],
   "source": [
    "import keras"
   ]
  },
  {
   "cell_type": "code",
   "execution_count": 6,
   "metadata": {},
   "outputs": [
    {
     "name": "stdout",
     "output_type": "stream",
     "text": [
      "WARNING:tensorflow:From /home/harleen/.local/lib/python3.6/site-packages/tensorflow/python/ops/math_grad.py:1250: add_dispatch_support.<locals>.wrapper (from tensorflow.python.ops.array_ops) is deprecated and will be removed in a future version.\n",
      "Instructions for updating:\n",
      "Use tf.where in 2.0, which has the same broadcast rule as np.where\n",
      "WARNING:tensorflow:From /home/harleen/.local/lib/python3.6/site-packages/keras/backend/tensorflow_backend.py:422: The name tf.global_variables is deprecated. Please use tf.compat.v1.global_variables instead.\n",
      "\n",
      "Train on 418 samples, validate on 47 samples\n",
      "Epoch 1/50\n",
      "418/418 [==============================] - 1s 2ms/step - loss: 2.0931 - accuracy: 0.0000e+00 - val_loss: 2.0752 - val_accuracy: 0.0000e+00\n",
      "Epoch 2/50\n",
      "418/418 [==============================] - 0s 188us/step - loss: 2.0669 - accuracy: 0.0024 - val_loss: 2.0573 - val_accuracy: 0.8298\n",
      "Epoch 3/50\n",
      "418/418 [==============================] - 0s 210us/step - loss: 2.0553 - accuracy: 0.9522 - val_loss: 2.0533 - val_accuracy: 1.0000\n",
      "Epoch 4/50\n",
      "418/418 [==============================] - 0s 216us/step - loss: 2.0526 - accuracy: 0.9498 - val_loss: 2.0521 - val_accuracy: 1.0000\n",
      "Epoch 5/50\n",
      "418/418 [==============================] - 0s 201us/step - loss: 2.0519 - accuracy: 1.0000 - val_loss: 2.0516 - val_accuracy: 1.0000\n",
      "Epoch 6/50\n",
      "418/418 [==============================] - 0s 209us/step - loss: 2.0516 - accuracy: 1.0000 - val_loss: 2.0514 - val_accuracy: 1.0000\n",
      "Epoch 7/50\n",
      "418/418 [==============================] - 0s 192us/step - loss: 2.0514 - accuracy: 1.0000 - val_loss: 2.0513 - val_accuracy: 1.0000\n",
      "Epoch 8/50\n",
      "418/418 [==============================] - 0s 191us/step - loss: 2.0513 - accuracy: 1.0000 - val_loss: 2.0513 - val_accuracy: 1.0000\n",
      "Epoch 9/50\n",
      "418/418 [==============================] - 0s 191us/step - loss: 2.0512 - accuracy: 1.0000 - val_loss: 2.0512 - val_accuracy: 1.0000\n",
      "Epoch 10/50\n",
      "418/418 [==============================] - 0s 197us/step - loss: 2.0512 - accuracy: 1.0000 - val_loss: 2.0511 - val_accuracy: 1.0000\n",
      "Epoch 11/50\n",
      "418/418 [==============================] - 0s 206us/step - loss: 2.0511 - accuracy: 1.0000 - val_loss: 2.0511 - val_accuracy: 1.0000\n",
      "Epoch 12/50\n",
      "418/418 [==============================] - 0s 205us/step - loss: 2.0511 - accuracy: 1.0000 - val_loss: 2.0511 - val_accuracy: 1.0000\n",
      "Epoch 13/50\n",
      "418/418 [==============================] - 0s 209us/step - loss: 2.0511 - accuracy: 1.0000 - val_loss: 2.0511 - val_accuracy: 1.0000\n",
      "Epoch 14/50\n",
      "418/418 [==============================] - 0s 191us/step - loss: 2.0511 - accuracy: 1.0000 - val_loss: 2.0510 - val_accuracy: 1.0000\n",
      "Epoch 15/50\n",
      "418/418 [==============================] - 0s 215us/step - loss: 2.0510 - accuracy: 1.0000 - val_loss: 2.0510 - val_accuracy: 1.0000\n",
      "Epoch 16/50\n",
      "418/418 [==============================] - 0s 188us/step - loss: 2.0510 - accuracy: 1.0000 - val_loss: 2.0510 - val_accuracy: 1.0000\n",
      "Epoch 17/50\n",
      "418/418 [==============================] - 0s 183us/step - loss: 2.0510 - accuracy: 1.0000 - val_loss: 2.0510 - val_accuracy: 1.0000\n",
      "Epoch 18/50\n",
      "418/418 [==============================] - 0s 189us/step - loss: 2.0510 - accuracy: 1.0000 - val_loss: 2.0510 - val_accuracy: 1.0000\n",
      "Epoch 19/50\n",
      "418/418 [==============================] - 0s 188us/step - loss: 2.0510 - accuracy: 1.0000 - val_loss: 2.0510 - val_accuracy: 1.0000\n",
      "Epoch 20/50\n",
      "418/418 [==============================] - 0s 187us/step - loss: 2.0510 - accuracy: 1.0000 - val_loss: 2.0510 - val_accuracy: 1.0000\n",
      "Epoch 21/50\n",
      "418/418 [==============================] - 0s 184us/step - loss: 2.0510 - accuracy: 1.0000 - val_loss: 2.0510 - val_accuracy: 1.0000\n",
      "Epoch 22/50\n",
      "418/418 [==============================] - 0s 185us/step - loss: 2.0510 - accuracy: 1.0000 - val_loss: 2.0510 - val_accuracy: 1.0000\n",
      "Epoch 23/50\n",
      "418/418 [==============================] - 0s 179us/step - loss: 2.0510 - accuracy: 1.0000 - val_loss: 2.0510 - val_accuracy: 1.0000\n",
      "Epoch 24/50\n",
      "418/418 [==============================] - 0s 199us/step - loss: 2.0510 - accuracy: 1.0000 - val_loss: 2.0510 - val_accuracy: 1.0000\n",
      "Epoch 25/50\n",
      "418/418 [==============================] - 0s 198us/step - loss: 2.0510 - accuracy: 1.0000 - val_loss: 2.0510 - val_accuracy: 1.0000\n",
      "Epoch 26/50\n",
      "418/418 [==============================] - 0s 198us/step - loss: 2.0510 - accuracy: 1.0000 - val_loss: 2.0510 - val_accuracy: 1.0000\n",
      "Epoch 27/50\n",
      "418/418 [==============================] - 0s 182us/step - loss: 2.0510 - accuracy: 1.0000 - val_loss: 2.0510 - val_accuracy: 1.0000\n",
      "Epoch 28/50\n",
      "418/418 [==============================] - 0s 193us/step - loss: 2.0510 - accuracy: 1.0000 - val_loss: 2.0510 - val_accuracy: 1.0000\n",
      "Epoch 29/50\n",
      "418/418 [==============================] - 0s 193us/step - loss: 2.0510 - accuracy: 1.0000 - val_loss: 2.0510 - val_accuracy: 1.0000\n",
      "Epoch 30/50\n",
      "418/418 [==============================] - 0s 187us/step - loss: 2.0510 - accuracy: 1.0000 - val_loss: 2.0510 - val_accuracy: 1.0000\n",
      "Epoch 31/50\n",
      "418/418 [==============================] - 0s 202us/step - loss: 2.0509 - accuracy: 1.0000 - val_loss: 2.0509 - val_accuracy: 1.0000\n",
      "Epoch 32/50\n",
      "418/418 [==============================] - 0s 187us/step - loss: 2.0509 - accuracy: 1.0000 - val_loss: 2.0509 - val_accuracy: 1.0000\n",
      "Epoch 33/50\n",
      "418/418 [==============================] - 0s 197us/step - loss: 2.0509 - accuracy: 1.0000 - val_loss: 2.0509 - val_accuracy: 1.0000\n",
      "Epoch 34/50\n",
      "418/418 [==============================] - 0s 181us/step - loss: 2.0509 - accuracy: 1.0000 - val_loss: 2.0509 - val_accuracy: 1.0000\n",
      "Epoch 35/50\n",
      "418/418 [==============================] - 0s 191us/step - loss: 2.0509 - accuracy: 1.0000 - val_loss: 2.0509 - val_accuracy: 1.0000\n",
      "Epoch 36/50\n",
      "418/418 [==============================] - 0s 205us/step - loss: 2.0509 - accuracy: 1.0000 - val_loss: 2.0509 - val_accuracy: 1.0000\n",
      "Epoch 37/50\n",
      "418/418 [==============================] - 0s 196us/step - loss: 2.0509 - accuracy: 1.0000 - val_loss: 2.0509 - val_accuracy: 1.0000\n",
      "Epoch 38/50\n",
      "418/418 [==============================] - 0s 189us/step - loss: 2.0509 - accuracy: 1.0000 - val_loss: 2.0509 - val_accuracy: 1.0000\n",
      "Epoch 39/50\n",
      "418/418 [==============================] - 0s 186us/step - loss: 2.0509 - accuracy: 1.0000 - val_loss: 2.0509 - val_accuracy: 1.0000\n",
      "Epoch 40/50\n",
      "418/418 [==============================] - 0s 195us/step - loss: 2.0509 - accuracy: 1.0000 - val_loss: 2.0509 - val_accuracy: 1.0000\n",
      "Epoch 41/50\n",
      "418/418 [==============================] - 0s 222us/step - loss: 2.0509 - accuracy: 1.0000 - val_loss: 2.0509 - val_accuracy: 1.0000\n",
      "Epoch 42/50\n",
      "418/418 [==============================] - 0s 242us/step - loss: 2.0509 - accuracy: 1.0000 - val_loss: 2.0509 - val_accuracy: 1.0000\n",
      "Epoch 43/50\n",
      "418/418 [==============================] - 0s 251us/step - loss: 2.0509 - accuracy: 1.0000 - val_loss: 2.0509 - val_accuracy: 1.0000\n",
      "Epoch 44/50\n",
      "418/418 [==============================] - 0s 231us/step - loss: 2.0509 - accuracy: 1.0000 - val_loss: 2.0509 - val_accuracy: 1.0000\n",
      "Epoch 45/50\n",
      "418/418 [==============================] - 0s 212us/step - loss: 2.0509 - accuracy: 1.0000 - val_loss: 2.0509 - val_accuracy: 1.0000\n",
      "Epoch 46/50\n",
      "418/418 [==============================] - 0s 215us/step - loss: 2.0509 - accuracy: 1.0000 - val_loss: 2.0509 - val_accuracy: 1.0000\n",
      "Epoch 47/50\n",
      "418/418 [==============================] - 0s 203us/step - loss: 2.0509 - accuracy: 1.0000 - val_loss: 2.0509 - val_accuracy: 1.0000\n",
      "Epoch 48/50\n",
      "418/418 [==============================] - 0s 169us/step - loss: 2.0509 - accuracy: 1.0000 - val_loss: 2.0509 - val_accuracy: 1.0000\n",
      "Epoch 49/50\n",
      "418/418 [==============================] - 0s 193us/step - loss: 2.0509 - accuracy: 1.0000 - val_loss: 2.0509 - val_accuracy: 1.0000\n",
      "Epoch 50/50\n",
      "418/418 [==============================] - 0s 178us/step - loss: 2.0509 - accuracy: 1.0000 - val_loss: 2.0509 - val_accuracy: 1.0000\n"
     ]
    }
   ],
   "source": [
    "model = Sequential()\n",
    "model.add(LSTM(32, input_shape=(7,1), return_sequences=True))\n",
    "model.add(LSTM(32))\n",
    "\n",
    "model.add(Dense(7, activation='softmax'))\n",
    "model.compile(loss='mean_squared_logarithmic_error', optimizer='adam', metrics = ['accuracy'])\n",
    "history = model.fit(train_x, train_y, validation_data=(val_x, val_y), epochs=50)"
   ]
  },
  {
   "cell_type": "code",
   "execution_count": 7,
   "metadata": {},
   "outputs": [
    {
     "data": {
      "image/png": "[encoded data removed]",
      "text/plain": [
       "<Figure size 432x288 with 1 Axes>"
      ]
     },
     "metadata": {},
     "output_type": "display_data"
    },
    {
     "data": {
      "image/png": "[encoded data removed]",
      "text/plain": [
       "<Figure size 432x288 with 1 Axes>"
      ]
     },
     "metadata": {},
     "output_type": "display_data"
    }
   ],
   "source": [
    "plt.plot(history.history['accuracy'])\n",
    "plt.plot(history.history['val_accuracy'])\n",
    "plt.title(\"Model Accuracy\")\n",
    "plt.xlabel('Epoch')\n",
    "plt.ylabel('Accuracy')\n",
    "plt.legend(['Train', 'Validation'], loc='lower right')\n",
    "plt.show()\n",
    "\n",
    "\n",
    "plt.plot(history.history['loss'])\n",
    "plt.plot(history.history['val_loss'])\n",
    "plt.title(\"Model Loss\")\n",
    "plt.xlabel('Epoch')\n",
    "plt.ylabel('Loss')\n",
    "plt.legend(['Train', 'Validation'], loc='lower right')\n",
    "plt.show()"
   ]
  },
  {
   "cell_type": "code",
   "execution_count": 8,
   "metadata": {},
   "outputs": [],
   "source": [
    "# model.save('RNN(final).h5')"
   ]
  },
  {
   "cell_type": "code",
   "execution_count": 9,
   "metadata": {},
   "outputs": [
    {
     "name": "stdout",
     "output_type": "stream",
     "text": [
      "52/52 [==============================] - 0s 238us/step\n"
     ]
    }
   ],
   "source": [
    "acc, loss= model.evaluate(test_x, test_y)"
   ]
  },
  {
   "cell_type": "code",
   "execution_count": 10,
   "metadata": {},
   "outputs": [
    {
     "name": "stdout",
     "output_type": "stream",
     "text": [
      "2.050926978771503 1.0\n"
     ]
    }
   ],
   "source": [
    "print(acc, loss)"
   ]
  },
  {
   "cell_type": "code",
   "execution_count": 22,
   "metadata": {},
   "outputs": [],
   "source": [
    "predictions= model.predict(test_x1)"
   ]
  },
  {
   "cell_type": "code",
   "execution_count": 21,
   "metadata": {},
   "outputs": [],
   "source": [
    "test_x1 = test_x[len(test_x)-20]\n",
    "test_x1 = test_x1[np.newaxis,...]\n",
    "\n"
   ]
  },
  {
   "cell_type": "code",
   "execution_count": 23,
   "metadata": {},
   "outputs": [
    {
     "name": "stdout",
     "output_type": "stream",
     "text": [
      "[[[ 96.1 ]\n",
      "  [181.1 ]\n",
      "  [671.2 ]\n",
      "  [ 14.3 ]\n",
      "  [ 32.3 ]\n",
      "  [ 27.  ]\n",
      "  [ 14.68]]]\n"
     ]
    }
   ],
   "source": [
    "print(test_x1)"
   ]
  },
  {
   "cell_type": "code",
   "execution_count": 25,
   "metadata": {},
   "outputs": [
    {
     "name": "stdout",
     "output_type": "stream",
     "text": [
      "[[6.5103020e-03 8.2916664e-03 2.8152251e+00 1.2765527e+01 2.1202858e+01\n",
      "  2.8487959e+01 3.4713631e+01]]\n"
     ]
    }
   ],
   "source": [
    "print(predictions*100)"
   ]
  }
 ],
 "metadata": {
  "kernelspec": {
   "display_name": "Python 3",
   "language": "python",
   "name": "python3"
  },
  "language_info": {
   "codemirror_mode": {
    "name": "ipython",
    "version": 3
   },
   "file_extension": ".py",
   "mimetype": "text/x-python",
   "name": "python",
   "nbconvert_exporter": "python",
   "pygments_lexer": "ipython3",
   "version": "3.6.8"
  }
 },
 "nbformat": 4,
 "nbformat_minor": 2
}
